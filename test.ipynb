{
 "cells": [
  {
   "cell_type": "code",
   "execution_count": 3,
   "metadata": {},
   "outputs": [
    {
     "data": {
      "application/vnd.jupyter.widget-view+json": {
       "model_id": "d70675c924784789a3fd956fc599fc87",
       "version_major": 2,
       "version_minor": 0
      },
      "text/plain": [
       "  0%|          | 0/211 [00:00<?, ?it/s]"
      ]
     },
     "metadata": {},
     "output_type": "display_data"
    }
   ],
   "source": [
    "import shutil\n",
    "import os\n",
    "from tqdm.auto import tqdm\n",
    "\n",
    "for mainclass in tqdm(os.listdir('c:/users/kevin/desktop/patent_classification/clf/backend/subclass_models')):\n",
    "    src = f\"c:/users/kevin/desktop/patent_classification/clf/backend/subclass_models/{mainclass}/\"\n",
    "    dst = f\"c:/users/kevin/desktop/subclass_models/{mainclass}/\"\n",
    "    ckpt_dst = f'c:/users/kevin/desktop/subclass_models/{mainclass}/{mainclass}.ckpt'\n",
    "    if not os.path.exists(dst):\n",
    "        os.mkdir(dst)\n",
    "    if not os.path.exists(ckpt_dst):\n",
    "        os.mkdir(ckpt_dst)\n",
    "    ckpt = src + f'{mainclass}.ckpt'\n",
    "    config = src + 'config.json'\n",
    "    mlb = src + f'{mainclass}_mlb.pkl'\n",
    "\n",
    "    shutil.copytree(ckpt, ckpt_dst, symlinks=False, dirs_exist_ok=True)\n",
    "    shutil.copy2(config, dst)\n",
    "    try:\n",
    "        shutil.copy2(mlb, dst)\n",
    "    except:\n",
    "        continue\n",
    "    "
   ]
  },
  {
   "cell_type": "code",
   "execution_count": 2,
   "metadata": {},
   "outputs": [],
   "source": [
    "from numba import cuda\n",
    "cuda.select_device(0)\n",
    "cuda.close()"
   ]
  },
  {
   "cell_type": "code",
   "execution_count": null,
   "metadata": {},
   "outputs": [],
   "source": []
  }
 ],
 "metadata": {
  "kernelspec": {
   "display_name": "base",
   "language": "python",
   "name": "python3"
  },
  "language_info": {
   "codemirror_mode": {
    "name": "ipython",
    "version": 3
   },
   "file_extension": ".py",
   "mimetype": "text/x-python",
   "name": "python",
   "nbconvert_exporter": "python",
   "pygments_lexer": "ipython3",
   "version": "3.10.9"
  },
  "orig_nbformat": 4
 },
 "nbformat": 4,
 "nbformat_minor": 2
}
